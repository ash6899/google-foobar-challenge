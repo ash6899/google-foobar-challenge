{
 "cells": [
  {
   "cell_type": "markdown",
   "metadata": {},
   "source": [
    "Who would've guessed? Doomsday devices take a LOT of power. Commander Lambda wants to supplement the LAMBCHOP's quantum antimatter reactor core with solar arrays, and she's tasked you with setting up the solar panels. \n",
    "\n",
    "Due to the nature of the space station's outer paneling, all of its solar panels must be squares. Fortunately, you have one very large and flat area of solar material, a pair of industrial-strength scissors, and enough MegaCorp Solar Tape(TM) to piece together any excess panel material into more squares. For example, if you had a total area of 12 square yards of solar material, you would be able to make one 3x3 square panel (with a total area of 9). That would leave 3 square yards, so you can turn those into three 1x1 square solar panels.\n",
    "\n",
    "Write a function solution(area) that takes as its input a single unit of measure representing the total area of solar panels you have (between 1 and 1000000 inclusive) and returns a list of the areas of the largest squares you could make out of those panels, starting with the largest squares first. So, following the example above, solution(12) would return [9, 1, 1, 1]."
   ]
  },
  {
   "cell_type": "code",
   "execution_count": 30,
   "metadata": {},
   "outputs": [
    {
     "name": "stdout",
     "output_type": "stream",
     "text": [
      "<map object at 0x0000028070B5A888>\n"
     ]
    }
   ],
   "source": [
    "from math import ceil, sqrt \n",
    "def solution(area) :  \n",
    "    l=1 \n",
    "    r=area\n",
    "    answer=[]\n",
    "    squares = [] \n",
    "    number = ceil(sqrt(l));\n",
    "    n2 = number * number;  \n",
    "    number = (number * 2) + 1;    \n",
    "    while ((n2 >= l and n2 <= r)) :  \n",
    "        squares.append(n2)\n",
    "        n2 = n2 + number;   \n",
    "        number += 2; \n",
    "    answer.append(squares[-1])\n",
    "    r = r - answer[-1]\n",
    "    squares.pop()\n",
    "    while(r != 0 ):\n",
    "        if(squares[-1] <= r):\n",
    "            answer.append(squares[-1])\n",
    "            r = r - answer[-1]\n",
    "        else:\n",
    "            squares.pop()\n",
    "    int_list = map(int, answer)\n",
    "    return(int_list)\n",
    "if __name__ == \"__main__\" :  \n",
    "  \n",
    "    area=12\n",
    "    solution(area)"
   ]
  },
  {
   "cell_type": "code",
   "execution_count": null,
   "metadata": {},
   "outputs": [],
   "source": []
  }
 ],
 "metadata": {
  "kernelspec": {
   "display_name": "Python 3",
   "language": "python",
   "name": "python3"
  },
  "language_info": {
   "codemirror_mode": {
    "name": "ipython",
    "version": 3
   },
   "file_extension": ".py",
   "mimetype": "text/x-python",
   "name": "python",
   "nbconvert_exporter": "python",
   "pygments_lexer": "ipython3",
   "version": "3.7.6"
  }
 },
 "nbformat": 4,
 "nbformat_minor": 4
}
